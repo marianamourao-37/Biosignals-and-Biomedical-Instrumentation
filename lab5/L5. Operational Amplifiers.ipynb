{
 "cells": [
  {
   "cell_type": "markdown",
   "metadata": {},
   "source": [
    " # <div  style=\"color:#303030;font-family:'arial blACK', sans-serif,monospace; text-align: center; padding: 50px 0; vertical-align:middle;\" > <img src=\"https://github.com/PIA-Group/ScientIST-notebooks/blob/master/_Resources/Images/Lightbulb.png?raw=true\" style=\" background:#00a0e4;border-radius:10px;width:150px;text-align:left; margin-left:10%\"  /> <span style=\"position:relative; bottom:70px; margin-left:5%\"> Active Circuits with an Operational Amplifier </span> </div>"
   ]
  },
  {
   "cell_type": "markdown",
   "metadata": {},
   "source": [
    "## <span style=\"color:#00a0e4;\"> Keywords: </span>"
   ]
  },
  {
   "cell_type": "markdown",
   "metadata": {},
   "source": [
    "```Operational Amplifiers```, ```Circuit Analysis```, ```Arduino```"
   ]
  },
  {
   "cell_type": "markdown",
   "metadata": {},
   "source": [
    "# I. Introduction\n",
    "<br>\n",
    "<div class=\"title\"style=\"width:100%; background:#00a0e4;font-family:'arial black',monospace; text-align: center; padding: 7px 0; border-radius: 5px 50px;margin-top:-15px\" >  </div>"
   ]
  },
  {
   "cell_type": "markdown",
   "metadata": {},
   "source": [
    "## <div style=\"color:#00a0e4\"> 1. Background </div>"
   ]
  },
  {
   "cell_type": "markdown",
   "metadata": {},
   "source": [
    "This session aims at introducing the student to the operational amplifier (OpAmp) and its basic configurations: Voltage follower, inverter and non-inverter."
   ]
  },
  {
   "cell_type": "markdown",
   "metadata": {},
   "source": [
    "<div style=\"background:#00bfc2;font-family:'arial', monospace; text-align: center; padding: 10px 0; border-radius:10px; width:70%; margin:auto \" >\n",
    "  <span style=\"font-size:20px;position:relative;color:white; \">  Note </span> <br>\n",
    "  <div style=\"background:#9eddde;font-size:12px\"> \n",
    "    If you have difficulties with the hardware setup, use Tinkercad. <br/>Files with pre-recorded data are also provided for some experiments.\n",
    "</div>\n",
    "</div>"
   ]
  },
  {
   "cell_type": "markdown",
   "metadata": {},
   "source": [
    "## <div style=\"color:#00a0e4\"> 2. Objectives</div>\n",
    "* Experiment different OpAmp configurations\n",
    "* Use Arduino-type systems as a basic function generator and signal visualizer \n",
    "* Explore experimental characterization of active electronic circuits\n",
    "\n"
   ]
  },
  {
   "cell_type": "markdown",
   "metadata": {},
   "source": [
    "## <div style=\"color:#00a0e4\"> 3. Materials (optional) </div>\n",
    "* Arduino IDE\n",
    "* 1x Breadboard\n",
    "* 5x Jumper wires\n",
    "* 4x 1kOhm resistors\n",
    "* 4x 10kOhm resistors\n",
    "* 1x 100nF capacitor\n",
    "* 1x OPA344PA OpAmp\n",
    "* 1x Arduino (or analogous device)\n",
    "* 1x USB cable"
   ]
  },
  {
   "cell_type": "markdown",
   "metadata": {},
   "source": [
    "# II. Experimental\n",
    "<br>\n",
    "<div style=\"width:100%; background:#00a0e4;color:#282828;font-family:'arial black'; text-align: center; padding: 7px 0; border-radius: 5px 50px; margin-top:-15px\" > </div>"
   ]
  },
  {
   "cell_type": "markdown",
   "metadata": {},
   "source": [
    "Consider the following active circuits represented in Figure 1 and Figure 2.\n",
    "\n",
    "<div style=\"background:#00bfc2;font-family:'arial', monospace; text-align: center; padding: 10px 0; border-radius:10px; width:70%; margin:auto \" >\n",
    "  <span style=\"font-size:20px;position:relative;color:white; \">  Note </span> <br>\n",
    "  <div style=\"background:#9eddde;font-size:12px\"> \n",
    "    The datasheet for the OPA344 OpAmp can be found at: <br/><a href=\"https://www.ti.com/lit/ds/sbos107a/sbos107a.pdf\">https://www.ti.com/lit/ds/sbos107a/sbos107a.pdf</a>\n",
    "</div>\n",
    "</div>\n",
    "\n",
    "<img src=\"non-inverter.png\" width=600/>\n",
    "\n",
    "<div width=\"100%\" align=\"center\">Figure 1 - Non-inverter OpAmp configuration</div>\n",
    "\n",
    "<img src=\"inverter.png\" width=600/>\n",
    "\n",
    "<div width=\"100%\" align=\"center\">Figure 2 - Inverter OpAmp configuration</div>"
   ]
  },
  {
   "cell_type": "markdown",
   "metadata": {},
   "source": [
    "# III. Explore\n",
    "<br>\n",
    "<div class='h1'  style=\"width:100%; background:#00a0e4;color:#282828;font-family:'arial black'; text-align: center; padding: 7px 0; border-radius: 5px 50px;margin-top:-15px\" > </div>"
   ]
  },
  {
   "cell_type": "markdown",
   "metadata": {},
   "source": [
    "## <div style=\"color:#00a0e4\">  1. Quizz </div>"
   ]
  },
  {
   "cell_type": "markdown",
   "metadata": {},
   "source": [
    "1) Derive its transfer function for both configurations with and without the capacitor."
   ]
  },
  {
   "cell_type": "markdown",
   "metadata": {},
   "source": [
    "2)  Simulate the circuits for several input signals (sinusoidal, square, triangular and noise) and frequencies."
   ]
  },
  {
   "cell_type": "markdown",
   "metadata": {},
   "source": [
    "3) Compute the input and output impedances (use the Thévenin’s theorem)."
   ]
  },
  {
   "cell_type": "markdown",
   "metadata": {},
   "source": [
    "4) Assemble the non-inverter configuration on a breadboard without the capacitor ($V- = 0V$ and $V+ = V_{cc}$ on the OPA344). Use your Arduino to record $v_o$ and to input a square wave with amplitude $[0; V_{cc}/4]$ as $v_i$ (test one or more frequencies of your choice). Discuss your findings."
   ]
  },
  {
   "cell_type": "code",
   "execution_count": 2,
   "metadata": {},
   "outputs": [
    {
     "data": {
      "image/png": "[encoded data removed]",
      "text/plain": [
       "<matplotlib.figure.Figure at 0x1157242d0>"
      ]
     },
     "metadata": {},
     "output_type": "display_data"
    }
   ],
   "source": [
    "import pylab as pl\n",
    "import matplotlib.pyplot as plt\n",
    "\n",
    "fname = './data/L5.4.csv'\n",
    "\n",
    "dados = pl.loadtxt(fname,  delimiter = ',')\n",
    "\n",
    "n = 250\n",
    "\n",
    "t = dados[:n, 0]-dados[0,0]\n",
    "vi = dados[:n, 1]\n",
    "vo = dados[:n, 2]\n",
    "\n",
    "plt.xlabel('Time (us)', color = \"#00a0e4\")\n",
    "plt.ylabel('ADC', color = \"#00a0e4\")\n",
    "\n",
    "plt.plot(t, vi, color = \"#00a0e4\")\n",
    "plt.plot(t, vo, color = \"#5756d6\")\n",
    "\n",
    "plt.show()"
   ]
  },
  {
   "cell_type": "markdown",
   "metadata": {},
   "source": [
    "5) Repeat Exercise 4 with $R_f = 0\\Omega$ and discuss your findings."
   ]
  },
  {
   "cell_type": "code",
   "execution_count": 3,
   "metadata": {},
   "outputs": [
    {
     "data": {
      "image/png": "[encoded data removed]",
      "text/plain": [
       "<matplotlib.figure.Figure at 0x107b5d0d0>"
      ]
     },
     "metadata": {},
     "output_type": "display_data"
    }
   ],
   "source": [
    "fname = './data/L5.5.csv'\n",
    "\n",
    "dados = pl.loadtxt(fname,  delimiter = ',')\n",
    "\n",
    "n = 250\n",
    "\n",
    "t = dados[:n, 0]-dados[0,0]\n",
    "vi = dados[:n, 1]\n",
    "vo = dados[:n, 2]\n",
    "\n",
    "plt.xlabel('Time (us)', color = \"#00a0e4\")\n",
    "plt.ylabel('ADC', color = \"#00a0e4\")\n",
    "\n",
    "plt.plot(t, vi, color = \"#00a0e4\")\n",
    "plt.plot(t, vo, color = \"#5756d6\")\n",
    "\n",
    "plt.show()"
   ]
  },
  {
   "cell_type": "markdown",
   "metadata": {},
   "source": [
    "<div style=\"width: 100%; \">\n",
    "<div style=\"background:#00a0e4;color:white;font-family:'arial', monospace; text-align: center; padding: 50px 0; border-radius:10px; height:10px; width:100%; float:left \" >\n",
    "<span style=\"font-size:12px;position:relative; top:-25px\">  Please provide us your feedback <span style=\"font-size:14px;position:relative;COLOR:WHITE\"> <a href=\"https://forms.gle/C8TdLQUAS9r8BNJM8\">here</a>.</span></span> \n",
    "<br>\n",
    "<span style=\"font-size:17px;position:relative; top:-20px\">  Suggestions are welcome! </span> \n",
    "</div>"
   ]
  },
  {
   "cell_type": "markdown",
   "metadata": {},
   "source": [
    "```Contributors: Prof. João Sanches; Prof. Hugo Plácido da Silva; Joana Pinto```"
   ]
  }
 ],
 "metadata": {
  "kernelspec": {
   "display_name": "Python 3",
   "language": "python",
   "name": "python3"
  },
  "language_info": {
   "codemirror_mode": {
    "name": "ipython",
    "version": 3
   },
   "file_extension": ".py",
   "mimetype": "text/x-python",
   "name": "python",
   "nbconvert_exporter": "python",
   "pygments_lexer": "ipython3",
   "version": "3.8.5"
  }
 },
 "nbformat": 4,
 "nbformat_minor": 4
}
