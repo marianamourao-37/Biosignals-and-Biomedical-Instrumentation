{
 "cells": [
  {
   "cell_type": "markdown",
   "metadata": {},
   "source": [
    " # <div  style=\"color:#303030;font-family:'arial blACK', sans-serif,monospace; text-align: center; padding: 50px 0; vertical-align:middle;\" > <img src=\"https://github.com/PIA-Group/ScientIST-notebooks/blob/master/_Resources/Images/Lightbulb.png?raw=true\" style=\" background:#00a0e4;border-radius:10px;width:150px;text-align:left; margin-left:10%\"  /> <span style=\"position:relative; bottom:70px; margin-left:5%\">  Circuit Analysis </span> </div>"
   ]
  },
  {
   "cell_type": "markdown",
   "metadata": {},
   "source": [
    "## <span style=\"color:#00a0e4;\"> Keywords: </span>"
   ]
  },
  {
   "cell_type": "markdown",
   "metadata": {},
   "source": [
    "```RC Circuits```, ```Circuit Analysis```, ```Arduino```"
   ]
  },
  {
   "cell_type": "markdown",
   "metadata": {},
   "source": [
    "# I. Introduction\n",
    "<br>\n",
    "<div class=\"title\"style=\"width:100%; background:#00a0e4;font-family:'arial black',monospace; text-align: center; padding: 7px 0; border-radius: 5px 50px;margin-top:-15px\" >  </div>"
   ]
  },
  {
   "cell_type": "markdown",
   "metadata": {},
   "source": [
    "## <div style=\"color:#00a0e4\"> 1. Background </div>"
   ]
  },
  {
   "cell_type": "markdown",
   "metadata": {},
   "source": [
    "This session aims at exploring basic circuit analysis in the time and frequency domains, as well as further illustrating the use of Arduino as laboratory equipment. \n"
   ]
  },
  {
   "cell_type": "markdown",
   "metadata": {},
   "source": [
    "<div style=\"background:#00bfc2;font-family:'arial', monospace; text-align: center; padding: 10px 0; border-radius:10px; width:70%; margin:auto \" >\n",
    "  <span style=\"font-size:20px;position:relative;color:white; \">  Note </span> <br>\n",
    "  <div style=\"background:#9eddde;font-size:12px\"> \n",
    "    If you have difficulties with the hardware setup, use Tinkercad. <br/>Files with pre-recorded data are also provided for some experiments.\n",
    "</div>\n",
    "</div>"
   ]
  },
  {
   "cell_type": "markdown",
   "metadata": {},
   "source": [
    "## <div style=\"color:#00a0e4\"> 2. Objectives</div>\n",
    "* Revisit basic circuit analysis\n",
    "* Use Arduino-type systems as a basic function generator and signal visualizer \n",
    "* Explore experimental characterization of electronic circuits\n",
    "\n"
   ]
  },
  {
   "cell_type": "markdown",
   "metadata": {},
   "source": [
    "## <div style=\"color:#00a0e4\"> 3. Materials (optional) </div>\n",
    "* Arduino IDE\n",
    "* 1x Breadboard\n",
    "* 5x Jumper wires\n",
    "* 4x 10kOhm resistors\n",
    "* 1x 100nF capacitor\n",
    "* 1x Arduino (or analogous device)\n",
    "* 1x USB cable"
   ]
  },
  {
   "cell_type": "markdown",
   "metadata": {},
   "source": [
    "# II. Experimental\n",
    "<br>\n",
    "<div style=\"width:100%; background:#00a0e4;color:#282828;font-family:'arial black'; text-align: center; padding: 7px 0; border-radius: 5px 50px; margin-top:-15px\" > </div>"
   ]
  },
  {
   "cell_type": "markdown",
   "metadata": {},
   "source": [
    "Mount the passive RC circuit of Figure 1 using the materials available in your kit.\n",
    "\n",
    "<img src=\"rccircuit-r1-30k.png\" width=400/>\n",
    "\n",
    "<div width=\"100%\" align=\"center\">Figure 1 - RC passive test circuit</div>"
   ]
  },
  {
   "cell_type": "markdown",
   "metadata": {},
   "source": [
    "# III. Explore\n",
    "<br>\n",
    "<div class='h1'  style=\"width:100%; background:#00a0e4;color:#282828;font-family:'arial black'; text-align: center; padding: 7px 0; border-radius: 5px 50px;margin-top:-15px\" > </div>"
   ]
  },
  {
   "cell_type": "markdown",
   "metadata": {},
   "source": [
    "## <div style=\"color:#00a0e4\">  1. Quizz </div>"
   ]
  },
  {
   "cell_type": "markdown",
   "metadata": {},
   "source": [
    "1) Derive the voltages ($v$) and currents ($i$) displayed in the circuit when a DC voltage, (e.g. $v_i$ = $V_{cc}$) is applied at the input.\n",
    "\n",
    "<div style=\"background:#00bfc2;font-family:'arial', monospace; text-align: center; padding: 10px 0; border-radius:10px; width:70%; margin:auto \" >\n",
    "  <span style=\"font-size:20px;position:relative;color:white; \">  Note </span> <br>\n",
    "  <div style=\"background:#9eddde;font-size:12px\"> \n",
    "    $V_{cc}$ = 5.0V on the Seeeduino Nano<br/>$V_{cc}$ = 3.3V on the Seeeduino XIAO\n",
    "</div>\n",
    "</div>\n",
    "\n",
    "|       | Derived |       | Derived |\n",
    "| ----- |:-------:| ------|:-------:|\n",
    "| $v_i$ |         | $i_1$ |         |\n",
    "| $v_o$ |         | $i_2$ |         |\n",
    "| $v_c$ |         | $i_c$ |         |\n",
    "| $v_1$ |         |       |         |"
   ]
  },
  {
   "cell_type": "markdown",
   "metadata": {},
   "source": [
    "2)  Derive the transfer function $G(s)=v_o(s)/v_i(s)$ and the frequency response, $H(ω)$. What type of filter is this circuit? Characterize it according the following parameters:\n",
    "\n",
    "    a) DC gain\n",
    "    b) -3dB cut-off frequency\n",
    "    c) High frequency asymptotic decay slope."
   ]
  },
  {
   "cell_type": "markdown",
   "metadata": {},
   "source": [
    "3) Using your Arduino-based square wave generator and analog voltage meter firmware, apply a 20Hz square wave with amplitude $[0; V_{cc}]$ as vi and record $v_i$ and vo as time series using a 750 $\\mu$S sampling period (a 1Mbps baud rate is recommended). Compare $v_o$ with the voltage derived in 1), and discuss your overall observations."
   ]
  },
  {
   "cell_type": "code",
   "execution_count": 27,
   "metadata": {},
   "outputs": [
    {
     "data": {
      "image/png": "[encoded data removed]",
      "text/plain": [
       "<matplotlib.figure.Figure at 0x11dab8a90>"
      ]
     },
     "metadata": {},
     "output_type": "display_data"
    }
   ],
   "source": [
    "import pylab as pl\n",
    "import matplotlib.pyplot as plt\n",
    "\n",
    "fname = './data/L4.3.csv'\n",
    "\n",
    "dados = pl.loadtxt(fname,  delimiter = ',')\n",
    "\n",
    "n = 250\n",
    "\n",
    "t = dados[:n, 0]-dados[0,0]\n",
    "vi = dados[:n, 1]\n",
    "vo = dados[:n, 2]\n",
    "\n",
    "plt.xlabel('Time (us)', color = \"#00a0e4\")\n",
    "plt.ylabel('V', color = \"#00a0e4\")\n",
    "\n",
    "plt.plot(t, vi, color = \"#00a0e4\")\n",
    "plt.plot(t, vo, color = \"#5756d6\")\n",
    "\n",
    "plt.show()"
   ]
  },
  {
   "cell_type": "markdown",
   "metadata": {},
   "source": [
    "4) The following Table presents the magnitude measurements of $v_o$, for the following variant of the circuit presented in Figure 1, where $R_1 = 1kΩ$, having sine waves of different frequencies with 1 $V_{pp}$ as input, $v_i$. Display these results in the semi-log plot in the next page in dBs ($20.log(v_o/v_i)$), and draw the asymptotic frequency response, derived from the transfer function obtained in 2), over the experimental points in the Table.\n",
    "\n",
    "<img src=\"rccircuit.png\" width=400/>"
   ]
  },
  {
   "cell_type": "code",
   "execution_count": 9,
   "metadata": {},
   "outputs": [
    {
     "data": {
      "text/html": [
       "<div>\n",
       "<table border=\"1\" class=\"dataframe\">\n",
       "  <thead>\n",
       "    <tr style=\"text-align: right;\">\n",
       "      <th></th>\n",
       "      <th>Freq. (Hz)</th>\n",
       "      <th>Vpp (mV)</th>\n",
       "    </tr>\n",
       "  </thead>\n",
       "  <tbody>\n",
       "    <tr>\n",
       "      <th>0</th>\n",
       "      <td>5.0</td>\n",
       "      <td>940.20</td>\n",
       "    </tr>\n",
       "    <tr>\n",
       "      <th>1</th>\n",
       "      <td>10.0</td>\n",
       "      <td>940.20</td>\n",
       "    </tr>\n",
       "    <tr>\n",
       "      <th>2</th>\n",
       "      <td>50.0</td>\n",
       "      <td>930.40</td>\n",
       "    </tr>\n",
       "    <tr>\n",
       "      <th>3</th>\n",
       "      <td>100.0</td>\n",
       "      <td>930.40</td>\n",
       "    </tr>\n",
       "    <tr>\n",
       "      <th>4</th>\n",
       "      <td>500.0</td>\n",
       "      <td>918.20</td>\n",
       "    </tr>\n",
       "    <tr>\n",
       "      <th>5</th>\n",
       "      <td>1000.0</td>\n",
       "      <td>880.70</td>\n",
       "    </tr>\n",
       "    <tr>\n",
       "      <th>6</th>\n",
       "      <td>1500.0</td>\n",
       "      <td>820.90</td>\n",
       "    </tr>\n",
       "    <tr>\n",
       "      <th>7</th>\n",
       "      <td>2000.0</td>\n",
       "      <td>750.80</td>\n",
       "    </tr>\n",
       "    <tr>\n",
       "      <th>8</th>\n",
       "      <td>2500.0</td>\n",
       "      <td>690.30</td>\n",
       "    </tr>\n",
       "    <tr>\n",
       "      <th>9</th>\n",
       "      <td>3000.0</td>\n",
       "      <td>630.20</td>\n",
       "    </tr>\n",
       "    <tr>\n",
       "      <th>10</th>\n",
       "      <td>4000.0</td>\n",
       "      <td>530.10</td>\n",
       "    </tr>\n",
       "    <tr>\n",
       "      <th>11</th>\n",
       "      <td>5000.0</td>\n",
       "      <td>443.90</td>\n",
       "    </tr>\n",
       "    <tr>\n",
       "      <th>12</th>\n",
       "      <td>6000.0</td>\n",
       "      <td>396.60</td>\n",
       "    </tr>\n",
       "    <tr>\n",
       "      <th>13</th>\n",
       "      <td>8000.0</td>\n",
       "      <td>310.20</td>\n",
       "    </tr>\n",
       "    <tr>\n",
       "      <th>14</th>\n",
       "      <td>10000.0</td>\n",
       "      <td>250.40</td>\n",
       "    </tr>\n",
       "    <tr>\n",
       "      <th>15</th>\n",
       "      <td>20000.0</td>\n",
       "      <td>140.20</td>\n",
       "    </tr>\n",
       "    <tr>\n",
       "      <th>16</th>\n",
       "      <td>50000.0</td>\n",
       "      <td>52.00</td>\n",
       "    </tr>\n",
       "    <tr>\n",
       "      <th>17</th>\n",
       "      <td>100000.0</td>\n",
       "      <td>28.04</td>\n",
       "    </tr>\n",
       "    <tr>\n",
       "      <th>18</th>\n",
       "      <td>150000.0</td>\n",
       "      <td>19.80</td>\n",
       "    </tr>\n",
       "    <tr>\n",
       "      <th>19</th>\n",
       "      <td>500000.0</td>\n",
       "      <td>8.10</td>\n",
       "    </tr>\n",
       "    <tr>\n",
       "      <th>20</th>\n",
       "      <td>1000000.0</td>\n",
       "      <td>4.10</td>\n",
       "    </tr>\n",
       "  </tbody>\n",
       "</table>\n",
       "</div>"
      ],
      "text/plain": [
       "     Freq. (Hz)   Vpp (mV)\n",
       "0           5.0     940.20\n",
       "1          10.0     940.20\n",
       "2          50.0     930.40\n",
       "3         100.0     930.40\n",
       "4         500.0     918.20\n",
       "5        1000.0     880.70\n",
       "6        1500.0     820.90\n",
       "7        2000.0     750.80\n",
       "8        2500.0     690.30\n",
       "9        3000.0     630.20\n",
       "10       4000.0     530.10\n",
       "11       5000.0     443.90\n",
       "12       6000.0     396.60\n",
       "13       8000.0     310.20\n",
       "14      10000.0     250.40\n",
       "15      20000.0     140.20\n",
       "16      50000.0      52.00\n",
       "17     100000.0      28.04\n",
       "18     150000.0      19.80\n",
       "19     500000.0       8.10\n",
       "20    1000000.0       4.10"
      ]
     },
     "execution_count": 9,
     "metadata": {},
     "output_type": "execute_result"
    }
   ],
   "source": [
    "import pandas as pd\n",
    "import pylab as pl\n",
    "import matplotlib.pyplot as plt\n",
    "\n",
    "fname = './data/L4.4.csv'\n",
    "\n",
    "dados = pd.read_csv(fname,  delimiter = ',', usecols=(1,2))\n",
    "\n",
    "dados"
   ]
  },
  {
   "cell_type": "markdown",
   "metadata": {},
   "source": [
    "<img src=\"https://github.com/PIA-Group/ScientIST-notebooks/blob/master/_Resources/Images/A.Signal_Acquisition_IMG/a015/asymptoticfrequencyresponse.png?raw=true\" width=800/>\n"
   ]
  },
  {
   "cell_type": "markdown",
   "metadata": {},
   "source": [
    "<div style=\"width: 100%; \">\n",
    "<div style=\"background:#00a0e4;color:white;font-family:'arial', monospace; text-align: center; padding: 50px 0; border-radius:10px; height:10px; width:100%; float:left \" >\n",
    "<span style=\"font-size:12px;position:relative; top:-25px\">  Please provide us your feedback <span style=\"font-size:14px;position:relative;COLOR:WHITE\"> <a href=\"https://forms.gle/C8TdLQUAS9r8BNJM8\">here</a>.</span></span> \n",
    "<br>\n",
    "<span style=\"font-size:17px;position:relative; top:-20px\">  Suggestions are welcome! </span> \n",
    "</div>"
   ]
  },
  {
   "cell_type": "markdown",
   "metadata": {},
   "source": [
    "```Contributors: Prof. João Sanches; Prof. Hugo Plácido da Silva; Joana Pinto```"
   ]
  }
 ],
 "metadata": {
  "kernelspec": {
   "display_name": "Python 3",
   "language": "python",
   "name": "python3"
  },
  "language_info": {
   "codemirror_mode": {
    "name": "ipython",
    "version": 3
   },
   "file_extension": ".py",
   "mimetype": "text/x-python",
   "name": "python",
   "nbconvert_exporter": "python",
   "pygments_lexer": "ipython3",
   "version": "3.8.5"
  }
 },
 "nbformat": 4,
 "nbformat_minor": 4
}
